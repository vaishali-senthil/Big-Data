{
  "nbformat": 4,
  "nbformat_minor": 0,
  "metadata": {
    "colab": {
      "name": "spark.ipynb",
      "provenance": [],
      "authorship_tag": "ABX9TyNH8ycEOZZAW6QNk8KX2qx0",
      "include_colab_link": true
    },
    "kernelspec": {
      "name": "python3",
      "display_name": "Python 3"
    },
    "language_info": {
      "name": "python"
    }
  },
  "cells": [
    {
      "cell_type": "markdown",
      "metadata": {
        "id": "view-in-github",
        "colab_type": "text"
      },
      "source": [
        "<a href=\"https://colab.research.google.com/github/vaishali-senthil/Big-Data/blob/main/spark/spark.ipynb\" target=\"_parent\"><img src=\"https://colab.research.google.com/assets/colab-badge.svg\" alt=\"Open In Colab\"/></a>"
      ]
    },
    {
      "cell_type": "code",
      "execution_count": 1,
      "metadata": {
        "colab": {
          "base_uri": "https://localhost:8080/"
        },
        "id": "Ni93lJXsI_xP",
        "outputId": "98e6298f-18b9-4d95-ca3b-61f242cf9130"
      },
      "outputs": [
        {
          "output_type": "stream",
          "name": "stdout",
          "text": [
            "Requirement already satisfied: pyspark in /usr/local/lib/python3.7/dist-packages (3.2.0)\n",
            "Requirement already satisfied: py4j==0.10.9.2 in /usr/local/lib/python3.7/dist-packages (from pyspark) (0.10.9.2)\n"
          ]
        }
      ],
      "source": [
        "pip install pyspark"
      ]
    },
    {
      "cell_type": "code",
      "source": [
        "import pyspark"
      ],
      "metadata": {
        "id": "mAe3qk37K0VJ"
      },
      "execution_count": 2,
      "outputs": []
    },
    {
      "cell_type": "markdown",
      "source": [
        "lowest average rating movie-RDD"
      ],
      "metadata": {
        "id": "BoaxsN7M9fBc"
      }
    },
    {
      "cell_type": "code",
      "source": [
        "from pyspark import SparkConf, SparkContext"
      ],
      "metadata": {
        "id": "EINwycblJEzG"
      },
      "execution_count": 19,
      "outputs": []
    },
    {
      "cell_type": "code",
      "source": [
        "def loadMovieNames():\n",
        "    movieNames = {}\n",
        "    with open('u.item',encoding = \"ISO-8859-1\") as f:\n",
        "        for line in f:\n",
        "            fields = line.split('|')\n",
        "            movieNames[int(fields[0])] = fields[1]\n",
        "    return movieNames"
      ],
      "metadata": {
        "id": "0jscco4UJE0l"
      },
      "execution_count": 20,
      "outputs": []
    },
    {
      "cell_type": "code",
      "source": [
        "def parseInput(line):\n",
        "    fields = line.split()\n",
        "    return (int(fields[1]), (float(fields[2]), 1.0))"
      ],
      "metadata": {
        "id": "J0ZW9kzBJE3e"
      },
      "execution_count": 21,
      "outputs": []
    },
    {
      "cell_type": "code",
      "source": [
        "if __name__ == \"__main__\":\n",
        "    # The main script - create our SparkContext\n",
        "    conf = SparkConf().setAppName(\"WorstMovies\")\n",
        "    sc = SparkContext.getOrCreate()\n",
        "\n",
        "    # Load up our movie ID -> movie name lookup table\n",
        "    movieNames = loadMovieNames()\n",
        "\n",
        "    # Load up the raw u.data file\n",
        "    lines = sc.textFile(\"u.data\")\n",
        "\n",
        "    # Convert to (movieID, (rating, 1.0))\n",
        "    movieRatings = lines.map(parseInput)\n",
        "\n",
        "    # Reduce to (movieID, (sumOfRatings, totalRatings))\n",
        "    ratingTotalsAndCount = movieRatings.reduceByKey(lambda movie1, movie2: ( movie1[0] + movie2[0], movie1[1] + movie2[1] ) )\n",
        "\n",
        "    # Map to (rating, averageRating)\n",
        "    averageRatings = ratingTotalsAndCount.mapValues(lambda totalAndCount : totalAndCount[0] / totalAndCount[1])\n",
        "\n",
        "    # Sort by average rating\n",
        "    sortedMovies = averageRatings.sortBy(lambda x: x[1])\n",
        "\n",
        "    # Take the top 10 results\n",
        "    results = sortedMovies.take(40)\n",
        "\n",
        "    # Print them out:\n",
        "    for result in results:\n",
        "        print(movieNames[result[0]], result[1])"
      ],
      "metadata": {
        "id": "YqHOCLkuJE5E",
        "colab": {
          "base_uri": "https://localhost:8080/"
        },
        "outputId": "e3fece57-d950-4025-a3fd-4d8bed91adcc"
      },
      "execution_count": 24,
      "outputs": [
        {
          "output_type": "stream",
          "name": "stdout",
          "text": [
            "Amityville: Dollhouse (1996) 1.0\n",
            "Somebody to Love (1994) 1.0\n",
            "Every Other Weekend (1990) 1.0\n",
            "Homage (1995) 1.0\n",
            "3 Ninjas: High Noon At Mega Mountain (1998) 1.0\n",
            "Bird of Prey (1996) 1.0\n",
            "Power 98 (1995) 1.0\n",
            "Beyond Bedlam (1993) 1.0\n",
            "Falling in Love Again (1980) 1.0\n",
            "T-Men (1947) 1.0\n",
            "Mighty, The (1998) 1.0\n",
            "Venice/Venice (1992) 1.0\n",
            "Bloody Child, The (1996) 1.0\n",
            "Eye of Vichy, The (Oeil de Vichy, L') (1993) 1.0\n",
            "Lashou shentan (1992) 1.0\n",
            "Liebelei (1933) 1.0\n",
            "Babyfever (1994) 1.0\n",
            "Man from Down Under, The (1943) 1.0\n",
            "Hungarian Fairy Tale, A (1987) 1.0\n",
            "Vermont Is For Lovers (1992) 1.0\n",
            "Gordy (1995) 1.0\n",
            "Crude Oasis, The (1995) 1.0\n",
            "Girl in the Cadillac (1995) 1.0\n",
            "Quartier Mozart (1992) 1.0\n",
            "Wend Kuuni (God's Gift) (1982) 1.0\n",
            "The Courtyard (1995) 1.0\n",
            "Chairman of the Board (1998) 1.0\n",
            "King of New York (1990) 1.0\n",
            "Symphonie pastorale, La (1946) 1.0\n",
            "Mostro, Il (1994) 1.0\n",
            "Mat' i syn (1997) 1.0\n",
            "Shadows (Cienie) (1988) 1.0\n",
            "JLG/JLG - autoportrait de décembre (1994) 1.0\n",
            "To Cross the Rubicon (1991) 1.0\n",
            "Pharaoh's Army (1995) 1.0\n",
            "Shadow of Angels (Schatten der Engel) (1976) 1.0\n",
            "Nobody Loves Me (Keiner liebt mich) (1994) 1.0\n",
            "Amityville: A New Generation (1993) 1.0\n",
            "Modern Affair, A (1995) 1.0\n",
            "Amityville 1992: It's About Time (1992) 1.0\n"
          ]
        }
      ]
    },
    {
      "cell_type": "markdown",
      "source": [
        "lowest average rating movie-Dataframe"
      ],
      "metadata": {
        "id": "6Qvn5G_o9kZC"
      }
    },
    {
      "cell_type": "code",
      "source": [
        "from pyspark.sql import SparkSession\n",
        "from pyspark.sql import Row\n",
        "from pyspark.sql import functions"
      ],
      "metadata": {
        "id": "wigpJEqQ9kxl"
      },
      "execution_count": 25,
      "outputs": []
    },
    {
      "cell_type": "code",
      "source": [
        "def loadMovieNames():\n",
        "    movieNames = {}\n",
        "    with open('u.item',encoding = \"ISO-8859-1\") as f:\n",
        "        for line in f:\n",
        "            fields = line.split('|')\n",
        "            movieNames[int(fields[0])] = fields[1]\n",
        "    return movieNames"
      ],
      "metadata": {
        "id": "HNoXqVNT9kzD"
      },
      "execution_count": 26,
      "outputs": []
    },
    {
      "cell_type": "code",
      "source": [
        "def parseInput(line):\n",
        "    fields = line.split()\n",
        "    return Row(movieID = int(fields[1]), rating = float(fields[2]))"
      ],
      "metadata": {
        "id": "5VeFFLvJ9k2n"
      },
      "execution_count": 27,
      "outputs": []
    },
    {
      "cell_type": "code",
      "source": [
        "\n",
        "if __name__ == \"__main__\":\n",
        "    # Create a SparkSession (the config bit is only for Windows!)\n",
        "    spark = SparkSession.builder.appName(\"PopularMovies\").getOrCreate()\n",
        "\n",
        "    # Load up our movie ID -> name dictionary\n",
        "    movieNames = loadMovieNames()\n",
        "\n",
        "    # Get the raw data\n",
        "    lines = spark.sparkContext.textFile(\"u.data\")\n",
        "    # Convert it to a RDD of Row objects with (movieID, rating)\n",
        "    movies = lines.map(parseInput)\n",
        "    # Convert that to a DataFrame\n",
        "    movieDataset = spark.createDataFrame(movies)\n",
        "\n",
        "    # Compute average rating for each movieID\n",
        "    averageRatings = movieDataset.groupBy(\"movieID\").avg(\"rating\")\n",
        "\n",
        "    # Compute count of ratings for each movieID\n",
        "    counts = movieDataset.groupBy(\"movieID\").count()\n",
        "\n",
        "    # Join the two together (We now have movieID, avg(rating), and count columns)\n",
        "    averagesAndCounts = counts.join(averageRatings, \"movieID\")\n",
        "\n",
        "    # Pull the top 10 results\n",
        "    topTen = averagesAndCounts.orderBy(\"avg(rating)\").take(10)\n",
        "\n",
        "    # Print them out, converting movie ID's to names as we go.\n",
        "    for movie in topTen:\n",
        "        print (movieNames[movie[0]], movie[1], movie[2])\n",
        "\n",
        "    # Stop the session\n",
        "    spark.stop()"
      ],
      "metadata": {
        "colab": {
          "base_uri": "https://localhost:8080/"
        },
        "id": "jOrg1xKh9k4c",
        "outputId": "5ec725e5-aa24-4aa6-89cb-8fd325f9baf2"
      },
      "execution_count": 28,
      "outputs": [
        {
          "output_type": "stream",
          "name": "stdout",
          "text": [
            "Touki Bouki (Journey of the Hyena) (1973) 1 1.0\n",
            "Amityville: Dollhouse (1996) 3 1.0\n",
            "Quartier Mozart (1992) 1 1.0\n",
            "Power 98 (1995) 1 1.0\n",
            "Amityville: A New Generation (1993) 5 1.0\n",
            "Lotto Land (1995) 1 1.0\n",
            "Hostile Intentions (1994) 1 1.0\n",
            "Falling in Love Again (1980) 2 1.0\n",
            "The Courtyard (1995) 1 1.0\n",
            "Bloody Child, The (1996) 1 1.0\n"
          ]
        }
      ]
    }
  ]
}